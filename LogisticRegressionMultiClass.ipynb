{
 "cells": [
  {
   "cell_type": "code",
   "execution_count": 1,
   "id": "9c6f4503-fb8d-4a41-9d36-b30174de5239",
   "metadata": {},
   "outputs": [],
   "source": [
    "import pandas as pd\n",
    "import numpy as np\n",
    "import matplotlib.pyplot as plt\n",
    "import seaborn as sns\n",
    "%matplotlib inline"
   ]
  },
  {
   "cell_type": "code",
   "execution_count": 2,
   "id": "fe9df163-346c-4580-a8fd-ca1b730adddd",
   "metadata": {},
   "outputs": [],
   "source": [
    "df=pd.read_csv(\"7-cyber_attack_data.csv\")\n"
   ]
  },
  {
   "cell_type": "code",
   "execution_count": 3,
   "id": "457c2a1d-38e9-4251-b340-258a8ae459ad",
   "metadata": {},
   "outputs": [
    {
     "data": {
      "text/html": [
       "<div>\n",
       "<style scoped>\n",
       "    .dataframe tbody tr th:only-of-type {\n",
       "        vertical-align: middle;\n",
       "    }\n",
       "\n",
       "    .dataframe tbody tr th {\n",
       "        vertical-align: top;\n",
       "    }\n",
       "\n",
       "    .dataframe thead th {\n",
       "        text-align: right;\n",
       "    }\n",
       "</style>\n",
       "<table border=\"1\" class=\"dataframe\">\n",
       "  <thead>\n",
       "    <tr style=\"text-align: right;\">\n",
       "      <th></th>\n",
       "      <th>src_packet_rate</th>\n",
       "      <th>dst_packet_rate</th>\n",
       "      <th>avg_payload_size</th>\n",
       "      <th>connection_duration</th>\n",
       "      <th>tcp_flag_count</th>\n",
       "      <th>avg_interarrival_time</th>\n",
       "      <th>failed_login_attempts</th>\n",
       "      <th>unusual_port_activity_score</th>\n",
       "      <th>session_entropy</th>\n",
       "      <th>avg_response_delay</th>\n",
       "      <th>attack_type</th>\n",
       "    </tr>\n",
       "  </thead>\n",
       "  <tbody>\n",
       "    <tr>\n",
       "      <th>0</th>\n",
       "      <td>-1.286132</td>\n",
       "      <td>-0.648334</td>\n",
       "      <td>1.044115</td>\n",
       "      <td>-0.469715</td>\n",
       "      <td>0.789859</td>\n",
       "      <td>-0.083727</td>\n",
       "      <td>-1.647309</td>\n",
       "      <td>-1.316412</td>\n",
       "      <td>1.011910</td>\n",
       "      <td>-0.898063</td>\n",
       "      <td>2</td>\n",
       "    </tr>\n",
       "    <tr>\n",
       "      <th>1</th>\n",
       "      <td>-0.222224</td>\n",
       "      <td>2.083232</td>\n",
       "      <td>1.191114</td>\n",
       "      <td>-1.354527</td>\n",
       "      <td>-0.956992</td>\n",
       "      <td>1.696028</td>\n",
       "      <td>-1.070406</td>\n",
       "      <td>0.981403</td>\n",
       "      <td>-1.628798</td>\n",
       "      <td>1.377594</td>\n",
       "      <td>0</td>\n",
       "    </tr>\n",
       "    <tr>\n",
       "      <th>2</th>\n",
       "      <td>-0.431963</td>\n",
       "      <td>0.375745</td>\n",
       "      <td>-1.370334</td>\n",
       "      <td>0.819214</td>\n",
       "      <td>0.345243</td>\n",
       "      <td>1.389447</td>\n",
       "      <td>-1.904130</td>\n",
       "      <td>1.292602</td>\n",
       "      <td>0.925545</td>\n",
       "      <td>0.232705</td>\n",
       "      <td>0</td>\n",
       "    </tr>\n",
       "    <tr>\n",
       "      <th>3</th>\n",
       "      <td>-0.912633</td>\n",
       "      <td>0.986988</td>\n",
       "      <td>-0.690042</td>\n",
       "      <td>2.014628</td>\n",
       "      <td>-0.442260</td>\n",
       "      <td>0.590347</td>\n",
       "      <td>-1.819353</td>\n",
       "      <td>1.560938</td>\n",
       "      <td>0.823755</td>\n",
       "      <td>0.517762</td>\n",
       "      <td>0</td>\n",
       "    </tr>\n",
       "    <tr>\n",
       "      <th>4</th>\n",
       "      <td>-0.367056</td>\n",
       "      <td>1.667892</td>\n",
       "      <td>0.879172</td>\n",
       "      <td>2.214276</td>\n",
       "      <td>1.846338</td>\n",
       "      <td>-0.894047</td>\n",
       "      <td>1.543838</td>\n",
       "      <td>0.931103</td>\n",
       "      <td>-1.015210</td>\n",
       "      <td>1.061845</td>\n",
       "      <td>1</td>\n",
       "    </tr>\n",
       "  </tbody>\n",
       "</table>\n",
       "</div>"
      ],
      "text/plain": [
       "   src_packet_rate  dst_packet_rate  avg_payload_size  connection_duration  \\\n",
       "0        -1.286132        -0.648334          1.044115            -0.469715   \n",
       "1        -0.222224         2.083232          1.191114            -1.354527   \n",
       "2        -0.431963         0.375745         -1.370334             0.819214   \n",
       "3        -0.912633         0.986988         -0.690042             2.014628   \n",
       "4        -0.367056         1.667892          0.879172             2.214276   \n",
       "\n",
       "   tcp_flag_count  avg_interarrival_time  failed_login_attempts  \\\n",
       "0        0.789859              -0.083727              -1.647309   \n",
       "1       -0.956992               1.696028              -1.070406   \n",
       "2        0.345243               1.389447              -1.904130   \n",
       "3       -0.442260               0.590347              -1.819353   \n",
       "4        1.846338              -0.894047               1.543838   \n",
       "\n",
       "   unusual_port_activity_score  session_entropy  avg_response_delay  \\\n",
       "0                    -1.316412         1.011910           -0.898063   \n",
       "1                     0.981403        -1.628798            1.377594   \n",
       "2                     1.292602         0.925545            0.232705   \n",
       "3                     1.560938         0.823755            0.517762   \n",
       "4                     0.931103        -1.015210            1.061845   \n",
       "\n",
       "   attack_type  \n",
       "0            2  \n",
       "1            0  \n",
       "2            0  \n",
       "3            0  \n",
       "4            1  "
      ]
     },
     "execution_count": 3,
     "metadata": {},
     "output_type": "execute_result"
    }
   ],
   "source": [
    "df.head()"
   ]
  },
  {
   "cell_type": "code",
   "execution_count": 4,
   "id": "e184eaf8-d9aa-4796-9311-1d4a1e3f0679",
   "metadata": {},
   "outputs": [
    {
     "data": {
      "text/plain": [
       "Index(['src_packet_rate', 'dst_packet_rate', 'avg_payload_size',\n",
       "       'connection_duration', 'tcp_flag_count', 'avg_interarrival_time',\n",
       "       'failed_login_attempts', 'unusual_port_activity_score',\n",
       "       'session_entropy', 'avg_response_delay', 'attack_type'],\n",
       "      dtype='object')"
      ]
     },
     "execution_count": 4,
     "metadata": {},
     "output_type": "execute_result"
    }
   ],
   "source": [
    "df.columns"
   ]
  },
  {
   "cell_type": "code",
   "execution_count": null,
   "id": "5c66cd13-4e91-420b-89b3-42e11cc43ddc",
   "metadata": {},
   "outputs": [],
   "source": []
  }
 ],
 "metadata": {
  "kernelspec": {
   "display_name": "Python 3 (ipykernel)",
   "language": "python",
   "name": "python3"
  },
  "language_info": {
   "codemirror_mode": {
    "name": "ipython",
    "version": 3
   },
   "file_extension": ".py",
   "mimetype": "text/x-python",
   "name": "python",
   "nbconvert_exporter": "python",
   "pygments_lexer": "ipython3",
   "version": "3.12.7"
  }
 },
 "nbformat": 4,
 "nbformat_minor": 5
}
